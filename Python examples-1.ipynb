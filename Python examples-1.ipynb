{
 "cells": [
  {
   "cell_type": "code",
   "execution_count": null,
   "metadata": {},
   "outputs": [],
   "source": [
    "#1 check if the number is positive or negative\n",
    "\n",
    "num = int(input(\"enter a non zero number\"))\n",
    "\n",
    "if num > 0:\n",
    "    print(\"the number {} is positive number\".format(num))\n",
    "if num < 0:\n",
    "    print(\" the number {} is negative number\".format(num))\n"
   ]
  },
  {
   "cell_type": "code",
   "execution_count": null,
   "metadata": {},
   "outputs": [],
   "source": [
    "#2 find the product of all numbers in the list\n",
    "\n",
    "lst = [3,5,6,8,3,2]\n",
    "index = 0\n",
    "prod = 1\n",
    "while index < len(lst):\n",
    "    prod*= lst[index]\n",
    "    index+= 1\n",
    "print(\"the product of the list is {}\".format(prod))\n",
    "    "
   ]
  },
  {
   "cell_type": "code",
   "execution_count": null,
   "metadata": {},
   "outputs": [],
   "source": [
    "#3 while with else\n",
    "\n",
    "lst = [1,3,5,6,2,4,8]\n",
    "\n",
    "index = 0\n",
    "while index < len(lst):\n",
    "    print(lst[index])\n",
    "    index+=1\n",
    "else:\n",
    "    print(\"no items in the list\")\n",
    "    \n",
    "    "
   ]
  },
  {
   "cell_type": "code",
   "execution_count": 17,
   "metadata": {},
   "outputs": [
    {
     "name": "stdout",
     "output_type": "stream",
     "text": [
      "enter a number : 16\n",
      "the number 16 is divisable by 2\n",
      "the number 16 is divisable by 4\n",
      "the number 16 is divisable by 8\n",
      " the number 16 is Not a prime number\n"
     ]
    }
   ],
   "source": [
    "#4 while ,if with else , to check the number if its prime or not\n",
    "\n",
    "num = int(input(\"enter a number : \"))\n",
    "\n",
    "isdivisable = False\n",
    "i=2\n",
    "while num > i:\n",
    "    if num % i == 0:\n",
    "        isdivisable = True\n",
    "        print(\"the number {} is divisable by {}\".format(num,i))\n",
    "    i+=1\n",
    "\n",
    "if isdivisable:\n",
    "    print(\" the number {} is Not a prime number\".format(num))\n",
    "else:\n",
    "    print(\" the number {} is a Prime number\".format(num))\n"
   ]
  },
  {
   "cell_type": "code",
   "execution_count": 22,
   "metadata": {},
   "outputs": [
    {
     "name": "stdout",
     "output_type": "stream",
     "text": [
      "enter a number : 197\n",
      " the number 197 is a Prime number\n"
     ]
    }
   ],
   "source": [
    "#4 while ,if with else , to check the number if its prime or not using BREAK statement\n",
    "\n",
    "num = int(input(\"enter a number : \"))\n",
    "\n",
    "isdivisable = False\n",
    "i=2\n",
    "while num > i:\n",
    "    if num % i == 0:\n",
    "        isdivisable = True\n",
    "        print(\"the number {} is divisable by {}\".format(num,i))\n",
    "        break;\n",
    "    i+=1\n",
    "\n",
    "if isdivisable:\n",
    "    print(\" the number {} is Not a prime number\".format(num))\n",
    "else:\n",
    "    print(\" the number {} is a Prime number\".format(num))"
   ]
  },
  {
   "cell_type": "code",
   "execution_count": 1,
   "metadata": {},
   "outputs": [
    {
     "name": "stdout",
     "output_type": "stream",
     "text": [
      "1\n",
      "3\n",
      "5\n",
      "7\n",
      "9\n"
     ]
    }
   ],
   "source": [
    "#5 print ODD numbers in the list using continue statement\n",
    "\n",
    "lst = [1,2,3,4,5,6,7,8,9]\n",
    "\n",
    "for num in lst:\n",
    "    if num%2 == 0:\n",
    "        continue\n",
    "    print(num)\n",
    "    "
   ]
  },
  {
   "cell_type": "code",
   "execution_count": null,
   "metadata": {},
   "outputs": [],
   "source": []
  }
 ],
 "metadata": {
  "kernelspec": {
   "display_name": "Python 3",
   "language": "python",
   "name": "python3"
  },
  "language_info": {
   "codemirror_mode": {
    "name": "ipython",
    "version": 3
   },
   "file_extension": ".py",
   "mimetype": "text/x-python",
   "name": "python",
   "nbconvert_exporter": "python",
   "pygments_lexer": "ipython3",
   "version": "3.7.3"
  }
 },
 "nbformat": 4,
 "nbformat_minor": 2
}
